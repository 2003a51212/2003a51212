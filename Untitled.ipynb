{
 "cells": [
  {
   "cell_type": "code",
   "execution_count": 16,
   "metadata": {},
   "outputs": [],
   "source": [
    "import pandas as pd"
   ]
  },
  {
   "cell_type": "code",
   "execution_count": 17,
   "metadata": {},
   "outputs": [],
   "source": [
    "data=pd.read_csv(\"D:\\python\\music.csv\")"
   ]
  },
  {
   "cell_type": "code",
   "execution_count": 18,
   "metadata": {},
   "outputs": [
    {
     "data": {
      "text/html": [
       "<div>\n",
       "<style scoped>\n",
       "    .dataframe tbody tr th:only-of-type {\n",
       "        vertical-align: middle;\n",
       "    }\n",
       "\n",
       "    .dataframe tbody tr th {\n",
       "        vertical-align: top;\n",
       "    }\n",
       "\n",
       "    .dataframe thead th {\n",
       "        text-align: right;\n",
       "    }\n",
       "</style>\n",
       "<table border=\"1\" class=\"dataframe\">\n",
       "  <thead>\n",
       "    <tr style=\"text-align: right;\">\n",
       "      <th></th>\n",
       "      <th>Class</th>\n",
       "      <th>_RMSenergy_Mean</th>\n",
       "      <th>_Lowenergy_Mean</th>\n",
       "      <th>_Fluctuation_Mean</th>\n",
       "      <th>_Tempo_Mean</th>\n",
       "      <th>_MFCC_Mean_1</th>\n",
       "      <th>_MFCC_Mean_2</th>\n",
       "      <th>_MFCC_Mean_3</th>\n",
       "      <th>_MFCC_Mean_4</th>\n",
       "      <th>_MFCC_Mean_5</th>\n",
       "      <th>_MFCC_Mean_6</th>\n",
       "      <th>_MFCC_Mean_7</th>\n",
       "      <th>_MFCC_Mean_8</th>\n",
       "      <th>_MFCC_Mean_9</th>\n",
       "      <th>_MFCC_Mean_10</th>\n",
       "      <th>_MFCC_Mean_11</th>\n",
       "      <th>_MFCC_Mean_12</th>\n",
       "      <th>_MFCC_Mean_13</th>\n",
       "      <th>_Roughness_Mean</th>\n",
       "      <th>_Roughness_Slope</th>\n",
       "    </tr>\n",
       "  </thead>\n",
       "  <tbody>\n",
       "    <tr>\n",
       "      <th>0</th>\n",
       "      <td>relax</td>\n",
       "      <td>0.052</td>\n",
       "      <td>0.591</td>\n",
       "      <td>9.136</td>\n",
       "      <td>130.043</td>\n",
       "      <td>3.997</td>\n",
       "      <td>0.363</td>\n",
       "      <td>0.887</td>\n",
       "      <td>0.078</td>\n",
       "      <td>0.221</td>\n",
       "      <td>0.118</td>\n",
       "      <td>-0.151</td>\n",
       "      <td>-0.131</td>\n",
       "      <td>0.129</td>\n",
       "      <td>0.154</td>\n",
       "      <td>0.274</td>\n",
       "      <td>0.232</td>\n",
       "      <td>0.246</td>\n",
       "      <td>51.542</td>\n",
       "      <td>0.325</td>\n",
       "    </tr>\n",
       "    <tr>\n",
       "      <th>1</th>\n",
       "      <td>relax</td>\n",
       "      <td>0.125</td>\n",
       "      <td>0.439</td>\n",
       "      <td>6.680</td>\n",
       "      <td>142.240</td>\n",
       "      <td>4.058</td>\n",
       "      <td>0.516</td>\n",
       "      <td>0.785</td>\n",
       "      <td>0.397</td>\n",
       "      <td>0.556</td>\n",
       "      <td>0.799</td>\n",
       "      <td>-0.403</td>\n",
       "      <td>-0.264</td>\n",
       "      <td>-0.057</td>\n",
       "      <td>0.288</td>\n",
       "      <td>0.309</td>\n",
       "      <td>0.049</td>\n",
       "      <td>0.027</td>\n",
       "      <td>336.839</td>\n",
       "      <td>0.366</td>\n",
       "    </tr>\n",
       "    <tr>\n",
       "      <th>2</th>\n",
       "      <td>relax</td>\n",
       "      <td>0.046</td>\n",
       "      <td>0.639</td>\n",
       "      <td>10.578</td>\n",
       "      <td>188.154</td>\n",
       "      <td>2.775</td>\n",
       "      <td>0.903</td>\n",
       "      <td>0.502</td>\n",
       "      <td>0.329</td>\n",
       "      <td>0.287</td>\n",
       "      <td>0.140</td>\n",
       "      <td>-0.246</td>\n",
       "      <td>0.025</td>\n",
       "      <td>-0.112</td>\n",
       "      <td>-0.422</td>\n",
       "      <td>0.018</td>\n",
       "      <td>0.179</td>\n",
       "      <td>0.138</td>\n",
       "      <td>39.864</td>\n",
       "      <td>0.224</td>\n",
       "    </tr>\n",
       "    <tr>\n",
       "      <th>3</th>\n",
       "      <td>relax</td>\n",
       "      <td>0.135</td>\n",
       "      <td>0.603</td>\n",
       "      <td>10.442</td>\n",
       "      <td>65.991</td>\n",
       "      <td>2.841</td>\n",
       "      <td>1.552</td>\n",
       "      <td>0.612</td>\n",
       "      <td>0.351</td>\n",
       "      <td>0.011</td>\n",
       "      <td>0.143</td>\n",
       "      <td>0.047</td>\n",
       "      <td>0.242</td>\n",
       "      <td>0.018</td>\n",
       "      <td>0.168</td>\n",
       "      <td>0.141</td>\n",
       "      <td>0.245</td>\n",
       "      <td>0.146</td>\n",
       "      <td>353.744</td>\n",
       "      <td>0.215</td>\n",
       "    </tr>\n",
       "    <tr>\n",
       "      <th>4</th>\n",
       "      <td>relax</td>\n",
       "      <td>0.066</td>\n",
       "      <td>0.591</td>\n",
       "      <td>9.769</td>\n",
       "      <td>88.890</td>\n",
       "      <td>3.217</td>\n",
       "      <td>0.228</td>\n",
       "      <td>0.814</td>\n",
       "      <td>0.096</td>\n",
       "      <td>0.434</td>\n",
       "      <td>0.285</td>\n",
       "      <td>0.104</td>\n",
       "      <td>0.013</td>\n",
       "      <td>-0.235</td>\n",
       "      <td>-0.207</td>\n",
       "      <td>-0.276</td>\n",
       "      <td>-0.294</td>\n",
       "      <td>-0.190</td>\n",
       "      <td>46.884</td>\n",
       "      <td>-0.118</td>\n",
       "    </tr>\n",
       "    <tr>\n",
       "      <th>...</th>\n",
       "      <td>...</td>\n",
       "      <td>...</td>\n",
       "      <td>...</td>\n",
       "      <td>...</td>\n",
       "      <td>...</td>\n",
       "      <td>...</td>\n",
       "      <td>...</td>\n",
       "      <td>...</td>\n",
       "      <td>...</td>\n",
       "      <td>...</td>\n",
       "      <td>...</td>\n",
       "      <td>...</td>\n",
       "      <td>...</td>\n",
       "      <td>...</td>\n",
       "      <td>...</td>\n",
       "      <td>...</td>\n",
       "      <td>...</td>\n",
       "      <td>...</td>\n",
       "      <td>...</td>\n",
       "      <td>...</td>\n",
       "    </tr>\n",
       "    <tr>\n",
       "      <th>395</th>\n",
       "      <td>angry</td>\n",
       "      <td>0.174</td>\n",
       "      <td>0.578</td>\n",
       "      <td>5.265</td>\n",
       "      <td>161.144</td>\n",
       "      <td>2.985</td>\n",
       "      <td>0.065</td>\n",
       "      <td>0.718</td>\n",
       "      <td>0.046</td>\n",
       "      <td>0.265</td>\n",
       "      <td>0.104</td>\n",
       "      <td>0.198</td>\n",
       "      <td>0.076</td>\n",
       "      <td>-0.129</td>\n",
       "      <td>-0.057</td>\n",
       "      <td>-0.173</td>\n",
       "      <td>-0.082</td>\n",
       "      <td>0.053</td>\n",
       "      <td>547.713</td>\n",
       "      <td>0.060</td>\n",
       "    </tr>\n",
       "    <tr>\n",
       "      <th>396</th>\n",
       "      <td>angry</td>\n",
       "      <td>0.176</td>\n",
       "      <td>0.498</td>\n",
       "      <td>5.042</td>\n",
       "      <td>179.787</td>\n",
       "      <td>2.790</td>\n",
       "      <td>-0.148</td>\n",
       "      <td>0.342</td>\n",
       "      <td>-0.011</td>\n",
       "      <td>0.029</td>\n",
       "      <td>0.039</td>\n",
       "      <td>0.065</td>\n",
       "      <td>-0.013</td>\n",
       "      <td>-0.129</td>\n",
       "      <td>0.029</td>\n",
       "      <td>-0.038</td>\n",
       "      <td>-0.035</td>\n",
       "      <td>0.038</td>\n",
       "      <td>1121.910</td>\n",
       "      <td>0.032</td>\n",
       "    </tr>\n",
       "    <tr>\n",
       "      <th>397</th>\n",
       "      <td>angry</td>\n",
       "      <td>0.187</td>\n",
       "      <td>0.557</td>\n",
       "      <td>4.724</td>\n",
       "      <td>134.032</td>\n",
       "      <td>1.672</td>\n",
       "      <td>0.566</td>\n",
       "      <td>0.880</td>\n",
       "      <td>-0.113</td>\n",
       "      <td>0.244</td>\n",
       "      <td>0.214</td>\n",
       "      <td>0.278</td>\n",
       "      <td>0.170</td>\n",
       "      <td>-0.049</td>\n",
       "      <td>-0.056</td>\n",
       "      <td>-0.111</td>\n",
       "      <td>-0.003</td>\n",
       "      <td>0.011</td>\n",
       "      <td>889.926</td>\n",
       "      <td>-0.010</td>\n",
       "    </tr>\n",
       "    <tr>\n",
       "      <th>398</th>\n",
       "      <td>angry</td>\n",
       "      <td>0.140</td>\n",
       "      <td>0.573</td>\n",
       "      <td>4.470</td>\n",
       "      <td>113.600</td>\n",
       "      <td>1.997</td>\n",
       "      <td>-0.210</td>\n",
       "      <td>0.694</td>\n",
       "      <td>0.089</td>\n",
       "      <td>0.206</td>\n",
       "      <td>0.062</td>\n",
       "      <td>0.173</td>\n",
       "      <td>0.243</td>\n",
       "      <td>-0.036</td>\n",
       "      <td>-0.149</td>\n",
       "      <td>-0.049</td>\n",
       "      <td>-0.078</td>\n",
       "      <td>0.035</td>\n",
       "      <td>408.726</td>\n",
       "      <td>0.174</td>\n",
       "    </tr>\n",
       "    <tr>\n",
       "      <th>399</th>\n",
       "      <td>angry</td>\n",
       "      <td>0.086</td>\n",
       "      <td>0.475</td>\n",
       "      <td>5.343</td>\n",
       "      <td>151.748</td>\n",
       "      <td>2.240</td>\n",
       "      <td>-0.014</td>\n",
       "      <td>0.834</td>\n",
       "      <td>-0.021</td>\n",
       "      <td>0.345</td>\n",
       "      <td>0.266</td>\n",
       "      <td>0.310</td>\n",
       "      <td>0.155</td>\n",
       "      <td>-0.003</td>\n",
       "      <td>0.016</td>\n",
       "      <td>-0.041</td>\n",
       "      <td>-0.055</td>\n",
       "      <td>0.075</td>\n",
       "      <td>258.400</td>\n",
       "      <td>0.000</td>\n",
       "    </tr>\n",
       "  </tbody>\n",
       "</table>\n",
       "<p>400 rows × 20 columns</p>\n",
       "</div>"
      ],
      "text/plain": [
       "     Class  _RMSenergy_Mean  _Lowenergy_Mean  _Fluctuation_Mean  _Tempo_Mean  \\\n",
       "0    relax            0.052            0.591              9.136      130.043   \n",
       "1    relax            0.125            0.439              6.680      142.240   \n",
       "2    relax            0.046            0.639             10.578      188.154   \n",
       "3    relax            0.135            0.603             10.442       65.991   \n",
       "4    relax            0.066            0.591              9.769       88.890   \n",
       "..     ...              ...              ...                ...          ...   \n",
       "395  angry            0.174            0.578              5.265      161.144   \n",
       "396  angry            0.176            0.498              5.042      179.787   \n",
       "397  angry            0.187            0.557              4.724      134.032   \n",
       "398  angry            0.140            0.573              4.470      113.600   \n",
       "399  angry            0.086            0.475              5.343      151.748   \n",
       "\n",
       "     _MFCC_Mean_1  _MFCC_Mean_2  _MFCC_Mean_3  _MFCC_Mean_4  _MFCC_Mean_5  \\\n",
       "0           3.997         0.363         0.887         0.078         0.221   \n",
       "1           4.058         0.516         0.785         0.397         0.556   \n",
       "2           2.775         0.903         0.502         0.329         0.287   \n",
       "3           2.841         1.552         0.612         0.351         0.011   \n",
       "4           3.217         0.228         0.814         0.096         0.434   \n",
       "..            ...           ...           ...           ...           ...   \n",
       "395         2.985         0.065         0.718         0.046         0.265   \n",
       "396         2.790        -0.148         0.342        -0.011         0.029   \n",
       "397         1.672         0.566         0.880        -0.113         0.244   \n",
       "398         1.997        -0.210         0.694         0.089         0.206   \n",
       "399         2.240        -0.014         0.834        -0.021         0.345   \n",
       "\n",
       "     _MFCC_Mean_6  _MFCC_Mean_7  _MFCC_Mean_8  _MFCC_Mean_9  _MFCC_Mean_10  \\\n",
       "0           0.118        -0.151        -0.131         0.129          0.154   \n",
       "1           0.799        -0.403        -0.264        -0.057          0.288   \n",
       "2           0.140        -0.246         0.025        -0.112         -0.422   \n",
       "3           0.143         0.047         0.242         0.018          0.168   \n",
       "4           0.285         0.104         0.013        -0.235         -0.207   \n",
       "..            ...           ...           ...           ...            ...   \n",
       "395         0.104         0.198         0.076        -0.129         -0.057   \n",
       "396         0.039         0.065        -0.013        -0.129          0.029   \n",
       "397         0.214         0.278         0.170        -0.049         -0.056   \n",
       "398         0.062         0.173         0.243        -0.036         -0.149   \n",
       "399         0.266         0.310         0.155        -0.003          0.016   \n",
       "\n",
       "     _MFCC_Mean_11  _MFCC_Mean_12  _MFCC_Mean_13  _Roughness_Mean  \\\n",
       "0            0.274          0.232          0.246           51.542   \n",
       "1            0.309          0.049          0.027          336.839   \n",
       "2            0.018          0.179          0.138           39.864   \n",
       "3            0.141          0.245          0.146          353.744   \n",
       "4           -0.276         -0.294         -0.190           46.884   \n",
       "..             ...            ...            ...              ...   \n",
       "395         -0.173         -0.082          0.053          547.713   \n",
       "396         -0.038         -0.035          0.038         1121.910   \n",
       "397         -0.111         -0.003          0.011          889.926   \n",
       "398         -0.049         -0.078          0.035          408.726   \n",
       "399         -0.041         -0.055          0.075          258.400   \n",
       "\n",
       "     _Roughness_Slope  \n",
       "0               0.325  \n",
       "1               0.366  \n",
       "2               0.224  \n",
       "3               0.215  \n",
       "4              -0.118  \n",
       "..                ...  \n",
       "395             0.060  \n",
       "396             0.032  \n",
       "397            -0.010  \n",
       "398             0.174  \n",
       "399             0.000  \n",
       "\n",
       "[400 rows x 20 columns]"
      ]
     },
     "execution_count": 18,
     "metadata": {},
     "output_type": "execute_result"
    }
   ],
   "source": [
    "data"
   ]
  },
  {
   "cell_type": "code",
   "execution_count": 19,
   "metadata": {},
   "outputs": [
    {
     "data": {
      "text/plain": [
       "<bound method IndexOpsMixin.factorize of 0      relax\n",
       "1      relax\n",
       "2      relax\n",
       "3      relax\n",
       "4      relax\n",
       "       ...  \n",
       "395    angry\n",
       "396    angry\n",
       "397    angry\n",
       "398    angry\n",
       "399    angry\n",
       "Name: Class, Length: 400, dtype: object>"
      ]
     },
     "execution_count": 19,
     "metadata": {},
     "output_type": "execute_result"
    }
   ],
   "source": [
    "\n",
    "import matplotlib.pyplot as pt\n",
    "x1=data['_RMSenergy_Mean']\n",
    "y=data['Class'].factorize\n",
    "y"
   ]
  },
  {
   "cell_type": "code",
   "execution_count": 20,
   "metadata": {},
   "outputs": [
    {
     "data": {
      "text/plain": [
       "[<matplotlib.lines.Line2D at 0x1f62da91880>]"
      ]
     },
     "execution_count": 20,
     "metadata": {},
     "output_type": "execute_result"
    },
    {
     "data": {
      "image/png": "[encoded data removed]",
      "text/plain": [
       "<Figure size 432x288 with 1 Axes>"
      ]
     },
     "metadata": {
      "needs_background": "light"
     },
     "output_type": "display_data"
    }
   ],
   "source": [
    "x2=data['_Lowenergy_Mean']\n",
    "y=data['Class']\n",
    "pt.plot(x2,y)"
   ]
  },
  {
   "cell_type": "code",
   "execution_count": 21,
   "metadata": {},
   "outputs": [
    {
     "data": {
      "text/plain": [
       "[<matplotlib.lines.Line2D at 0x1f62daf0910>]"
      ]
     },
     "execution_count": 21,
     "metadata": {},
     "output_type": "execute_result"
    },
    {
     "data": {
      "image/png": "[encoded data removed]",
      "text/plain": [
       "<Figure size 432x288 with 1 Axes>"
      ]
     },
     "metadata": {
      "needs_background": "light"
     },
     "output_type": "display_data"
    }
   ],
   "source": [
    "x3=data['_Fluctuation_Mean']\n",
    "y=data['Class']\n",
    "pt.plot(x3,y)"
   ]
  },
  {
   "cell_type": "code",
   "execution_count": 22,
   "metadata": {},
   "outputs": [
    {
     "data": {
      "text/plain": [
       "[<matplotlib.lines.Line2D at 0x1f62db40be0>]"
      ]
     },
     "execution_count": 22,
     "metadata": {},
     "output_type": "execute_result"
    },
    {
     "data": {
      "image/png": "[encoded data removed]",
      "text/plain": [
       "<Figure size 432x288 with 1 Axes>"
      ]
     },
     "metadata": {
      "needs_background": "light"
     },
     "output_type": "display_data"
    }
   ],
   "source": [
    "x4=data['_Tempo_Mean']\n",
    "y=data['Class']\n",
    "pt.plot(x4,y)"
   ]
  },
  {
   "cell_type": "code",
   "execution_count": 23,
   "metadata": {},
   "outputs": [
    {
     "data": {
      "text/plain": [
       "[<matplotlib.lines.Line2D at 0x1f62db94dc0>]"
      ]
     },
     "execution_count": 23,
     "metadata": {},
     "output_type": "execute_result"
    },
    {
     "data": {
      "image/png": "[encoded data removed]",
      "text/plain": [
       "<Figure size 432x288 with 1 Axes>"
      ]
     },
     "metadata": {
      "needs_background": "light"
     },
     "output_type": "display_data"
    }
   ],
   "source": [
    "x5=data['_MFCC_Mean_1']\n",
    "y=data['Class']\n",
    "pt.plot(x5,y)"
   ]
  },
  {
   "cell_type": "code",
   "execution_count": 24,
   "metadata": {},
   "outputs": [
    {
     "data": {
      "text/plain": [
       "[<matplotlib.lines.Line2D at 0x1f62dab5df0>]"
      ]
     },
     "execution_count": 24,
     "metadata": {},
     "output_type": "execute_result"
    },
    {
     "data": {
      "image/png": "[encoded data removed]",
      "text/plain": [
       "<Figure size 432x288 with 1 Axes>"
      ]
     },
     "metadata": {
      "needs_background": "light"
     },
     "output_type": "display_data"
    }
   ],
   "source": [
    "x6=data['_MFCC_Mean_2']\n",
    "y=data['Class']\n",
    "pt.plot(x6,y)"
   ]
  },
  {
   "cell_type": "code",
   "execution_count": 25,
   "metadata": {},
   "outputs": [
    {
     "data": {
      "text/plain": [
       "[<matplotlib.lines.Line2D at 0x1f62d6eed30>]"
      ]
     },
     "execution_count": 25,
     "metadata": {},
     "output_type": "execute_result"
    },
    {
     "data": {
      "image/png": "[encoded data removed]",
      "text/plain": [
       "<Figure size 432x288 with 1 Axes>"
      ]
     },
     "metadata": {
      "needs_background": "light"
     },
     "output_type": "display_data"
    }
   ],
   "source": [
    "x7=data['_MFCC_Mean_3']\n",
    "y=data['Class']\n",
    "pt.plot(x7,y)"
   ]
  },
  {
   "cell_type": "code",
   "execution_count": 26,
   "metadata": {},
   "outputs": [
    {
     "data": {
      "text/plain": [
       "[<matplotlib.lines.Line2D at 0x1f62dc2e760>]"
      ]
     },
     "execution_count": 26,
     "metadata": {},
     "output_type": "execute_result"
    },
    {
     "data": {
      "image/png": "[encoded data removed]",
      "text/plain": [
       "<Figure size 432x288 with 1 Axes>"
      ]
     },
     "metadata": {
      "needs_background": "light"
     },
     "output_type": "display_data"
    }
   ],
   "source": [
    "x8=data['_MFCC_Mean_4']\n",
    "y=data['Class']\n",
    "pt.plot(x8,y)"
   ]
  },
  {
   "cell_type": "code",
   "execution_count": 27,
   "metadata": {},
   "outputs": [
    {
     "data": {
      "text/plain": [
       "[<matplotlib.lines.Line2D at 0x1f62dc78ee0>]"
      ]
     },
     "execution_count": 27,
     "metadata": {},
     "output_type": "execute_result"
    },
    {
     "data": {
      "image/png": "[encoded data removed]",
      "text/plain": [
       "<Figure size 432x288 with 1 Axes>"
      ]
     },
     "metadata": {
      "needs_background": "light"
     },
     "output_type": "display_data"
    }
   ],
   "source": [
    "x9=data['_MFCC_Mean_5']\n",
    "y=data['Class']\n",
    "pt.plot(x9,y)"
   ]
  },
  {
   "cell_type": "code",
   "execution_count": 28,
   "metadata": {},
   "outputs": [
    {
     "data": {
      "text/plain": [
       "[<matplotlib.lines.Line2D at 0x1f62ec9df10>]"
      ]
     },
     "execution_count": 28,
     "metadata": {},
     "output_type": "execute_result"
    },
    {
     "data": {
      "image/png": "[encoded data removed]",
      "text/plain": [
       "<Figure size 432x288 with 1 Axes>"
      ]
     },
     "metadata": {
      "needs_background": "light"
     },
     "output_type": "display_data"
    }
   ],
   "source": [
    "x10=data['_MFCC_Mean_6']\n",
    "y=data['Class']\n",
    "pt.plot(x10,y)"
   ]
  },
  {
   "cell_type": "code",
   "execution_count": 29,
   "metadata": {},
   "outputs": [
    {
     "data": {
      "text/plain": [
       "[<matplotlib.lines.Line2D at 0x1f62ecfc3a0>]"
      ]
     },
     "execution_count": 29,
     "metadata": {},
     "output_type": "execute_result"
    },
    {
     "data": {
      "image/png": "[encoded data removed]",
      "text/plain": [
       "<Figure size 432x288 with 1 Axes>"
      ]
     },
     "metadata": {
      "needs_background": "light"
     },
     "output_type": "display_data"
    }
   ],
   "source": [
    "x11=data['_MFCC_Mean_7']\n",
    "y=data['Class']\n",
    "pt.plot(x11,y)"
   ]
  },
  {
   "cell_type": "code",
   "execution_count": 30,
   "metadata": {},
   "outputs": [
    {
     "data": {
      "text/plain": [
       "[<matplotlib.lines.Line2D at 0x1f62dabe280>]"
      ]
     },
     "execution_count": 30,
     "metadata": {},
     "output_type": "execute_result"
    },
    {
     "data": {
      "image/png": "[encoded data removed]",
      "text/plain": [
       "<Figure size 432x288 with 1 Axes>"
      ]
     },
     "metadata": {
      "needs_background": "light"
     },
     "output_type": "display_data"
    }
   ],
   "source": [
    "x12=data['_MFCC_Mean_8']\n",
    "y=data['Class']\n",
    "pt.plot(x12,y)"
   ]
  },
  {
   "cell_type": "code",
   "execution_count": 31,
   "metadata": {},
   "outputs": [
    {
     "data": {
      "text/plain": [
       "[<matplotlib.lines.Line2D at 0x1f62eda7280>]"
      ]
     },
     "execution_count": 31,
     "metadata": {},
     "output_type": "execute_result"
    },
    {
     "data": {
      "image/png": "[encoded data removed]",
      "text/plain": [
       "<Figure size 432x288 with 1 Axes>"
      ]
     },
     "metadata": {
      "needs_background": "light"
     },
     "output_type": "display_data"
    }
   ],
   "source": [
    "x13=data['_MFCC_Mean_9']\n",
    "y=data['Class']\n",
    "pt.plot(x13,y)"
   ]
  },
  {
   "cell_type": "code",
   "execution_count": 32,
   "metadata": {},
   "outputs": [
    {
     "data": {
      "text/plain": [
       "[<matplotlib.lines.Line2D at 0x1f62edf2940>]"
      ]
     },
     "execution_count": 32,
     "metadata": {},
     "output_type": "execute_result"
    },
    {
     "data": {
      "image/png": "[encoded data removed]",
      "text/plain": [
       "<Figure size 432x288 with 1 Axes>"
      ]
     },
     "metadata": {
      "needs_background": "light"
     },
     "output_type": "display_data"
    }
   ],
   "source": [
    "x14=data['_MFCC_Mean_10']\n",
    "y=data['Class']\n",
    "pt.plot(x14,y)"
   ]
  },
  {
   "cell_type": "code",
   "execution_count": 33,
   "metadata": {},
   "outputs": [
    {
     "data": {
      "text/plain": [
       "[<matplotlib.lines.Line2D at 0x1f62ee40c10>]"
      ]
     },
     "execution_count": 33,
     "metadata": {},
     "output_type": "execute_result"
    },
    {
     "data": {
      "image/png": "[encoded data removed]",
      "text/plain": [
       "<Figure size 432x288 with 1 Axes>"
      ]
     },
     "metadata": {
      "needs_background": "light"
     },
     "output_type": "display_data"
    }
   ],
   "source": [
    "x15=data['_MFCC_Mean_11']\n",
    "y=data['Class']\n",
    "pt.plot(x15,y)"
   ]
  },
  {
   "cell_type": "code",
   "execution_count": 34,
   "metadata": {},
   "outputs": [
    {
     "data": {
      "text/plain": [
       "[<matplotlib.lines.Line2D at 0x1f62ee88d90>]"
      ]
     },
     "execution_count": 34,
     "metadata": {},
     "output_type": "execute_result"
    },
    {
     "data": {
      "image/png": "[encoded data removed]",
      "text/plain": [
       "<Figure size 432x288 with 1 Axes>"
      ]
     },
     "metadata": {
      "needs_background": "light"
     },
     "output_type": "display_data"
    }
   ],
   "source": [
    "x16=data['_MFCC_Mean_12']\n",
    "y=data['Class']\n",
    "pt.plot(x16,y)"
   ]
  },
  {
   "cell_type": "code",
   "execution_count": 35,
   "metadata": {},
   "outputs": [
    {
     "data": {
      "text/plain": [
       "[<matplotlib.lines.Line2D at 0x1f62eeddee0>]"
      ]
     },
     "execution_count": 35,
     "metadata": {},
     "output_type": "execute_result"
    },
    {
     "data": {
      "image/png": "[encoded data removed]",
      "text/plain": [
       "<Figure size 432x288 with 1 Axes>"
      ]
     },
     "metadata": {
      "needs_background": "light"
     },
     "output_type": "display_data"
    }
   ],
   "source": [
    "x17=data['_MFCC_Mean_13']\n",
    "y=data['Class']\n",
    "pt.plot(x17,y)"
   ]
  },
  {
   "cell_type": "code",
   "execution_count": 36,
   "metadata": {},
   "outputs": [
    {
     "data": {
      "text/plain": [
       "[<matplotlib.lines.Line2D at 0x1f62dc5af70>]"
      ]
     },
     "execution_count": 36,
     "metadata": {},
     "output_type": "execute_result"
    },
    {
     "data": {
      "image/png": "[encoded data removed]",
      "text/plain": [
       "<Figure size 432x288 with 1 Axes>"
      ]
     },
     "metadata": {
      "needs_background": "light"
     },
     "output_type": "display_data"
    }
   ],
   "source": [
    "x18=data['_Roughness_Mean']\n",
    "y=data['Class']\n",
    "pt.plot(x18,y)"
   ]
  },
  {
   "cell_type": "code",
   "execution_count": 37,
   "metadata": {},
   "outputs": [
    {
     "data": {
      "text/plain": [
       "[<matplotlib.lines.Line2D at 0x1f62ed1c3d0>]"
      ]
     },
     "execution_count": 37,
     "metadata": {},
     "output_type": "execute_result"
    },
    {
     "data": {
      "image/png": "[encoded data removed]",
      "text/plain": [
       "<Figure size 432x288 with 1 Axes>"
      ]
     },
     "metadata": {
      "needs_background": "light"
     },
     "output_type": "display_data"
    }
   ],
   "source": [
    "x19=data['_Roughness_Slope']\n",
    "y=data['Class']\n",
    "pt.plot(x19,y)"
   ]
  },
  {
   "cell_type": "code",
   "execution_count": 38,
   "metadata": {},
   "outputs": [],
   "source": [
    "from sklearn.preprocessing import LabelEncoder"
   ]
  },
  {
   "cell_type": "code",
   "execution_count": 39,
   "metadata": {},
   "outputs": [],
   "source": [
    "le_Class=LabelEncoder()"
   ]
  },
  {
   "cell_type": "code",
   "execution_count": 40,
   "metadata": {},
   "outputs": [],
   "source": [
    "data['Class_n']=le_Class.fit_transform(data['Class'])\n"
   ]
  },
  {
   "cell_type": "markdown",
   "metadata": {},
   "source": [
    "relax=2\n",
    "happy=1\n",
    "sad=3\n",
    "angry=0"
   ]
  },
  {
   "cell_type": "code",
   "execution_count": 56,
   "metadata": {},
   "outputs": [
    {
     "data": {
      "text/plain": [
       "0      2\n",
       "1      2\n",
       "2      2\n",
       "3      2\n",
       "4      2\n",
       "      ..\n",
       "395    0\n",
       "396    0\n",
       "397    0\n",
       "398    0\n",
       "399    0\n",
       "Name: Class_n, Length: 400, dtype: int32"
      ]
     },
     "execution_count": 56,
     "metadata": {},
     "output_type": "execute_result"
    }
   ],
   "source": [
    "x = data.drop(['Class','Class_n'],axis='columns')\n",
    "y= data['Class_n']\n",
    "y"
   ]
  },
  {
   "cell_type": "code",
   "execution_count": 57,
   "metadata": {},
   "outputs": [
    {
     "data": {
      "text/html": [
       "<div>\n",
       "<style scoped>\n",
       "    .dataframe tbody tr th:only-of-type {\n",
       "        vertical-align: middle;\n",
       "    }\n",
       "\n",
       "    .dataframe tbody tr th {\n",
       "        vertical-align: top;\n",
       "    }\n",
       "\n",
       "    .dataframe thead th {\n",
       "        text-align: right;\n",
       "    }\n",
       "</style>\n",
       "<table border=\"1\" class=\"dataframe\">\n",
       "  <thead>\n",
       "    <tr style=\"text-align: right;\">\n",
       "      <th></th>\n",
       "      <th>_RMSenergy_Mean</th>\n",
       "      <th>_Lowenergy_Mean</th>\n",
       "      <th>_Fluctuation_Mean</th>\n",
       "      <th>_Tempo_Mean</th>\n",
       "      <th>_MFCC_Mean_1</th>\n",
       "      <th>_MFCC_Mean_2</th>\n",
       "      <th>_MFCC_Mean_3</th>\n",
       "      <th>_MFCC_Mean_4</th>\n",
       "      <th>_MFCC_Mean_5</th>\n",
       "      <th>_MFCC_Mean_6</th>\n",
       "      <th>_MFCC_Mean_7</th>\n",
       "      <th>_MFCC_Mean_8</th>\n",
       "      <th>_MFCC_Mean_9</th>\n",
       "      <th>_MFCC_Mean_10</th>\n",
       "      <th>_MFCC_Mean_11</th>\n",
       "      <th>_MFCC_Mean_12</th>\n",
       "      <th>_MFCC_Mean_13</th>\n",
       "      <th>_Roughness_Mean</th>\n",
       "      <th>_Roughness_Slope</th>\n",
       "    </tr>\n",
       "  </thead>\n",
       "  <tbody>\n",
       "    <tr>\n",
       "      <th>0</th>\n",
       "      <td>0.052</td>\n",
       "      <td>0.591</td>\n",
       "      <td>9.136</td>\n",
       "      <td>130.043</td>\n",
       "      <td>3.997</td>\n",
       "      <td>0.363</td>\n",
       "      <td>0.887</td>\n",
       "      <td>0.078</td>\n",
       "      <td>0.221</td>\n",
       "      <td>0.118</td>\n",
       "      <td>-0.151</td>\n",
       "      <td>-0.131</td>\n",
       "      <td>0.129</td>\n",
       "      <td>0.154</td>\n",
       "      <td>0.274</td>\n",
       "      <td>0.232</td>\n",
       "      <td>0.246</td>\n",
       "      <td>51.542</td>\n",
       "      <td>0.325</td>\n",
       "    </tr>\n",
       "    <tr>\n",
       "      <th>1</th>\n",
       "      <td>0.125</td>\n",
       "      <td>0.439</td>\n",
       "      <td>6.680</td>\n",
       "      <td>142.240</td>\n",
       "      <td>4.058</td>\n",
       "      <td>0.516</td>\n",
       "      <td>0.785</td>\n",
       "      <td>0.397</td>\n",
       "      <td>0.556</td>\n",
       "      <td>0.799</td>\n",
       "      <td>-0.403</td>\n",
       "      <td>-0.264</td>\n",
       "      <td>-0.057</td>\n",
       "      <td>0.288</td>\n",
       "      <td>0.309</td>\n",
       "      <td>0.049</td>\n",
       "      <td>0.027</td>\n",
       "      <td>336.839</td>\n",
       "      <td>0.366</td>\n",
       "    </tr>\n",
       "    <tr>\n",
       "      <th>2</th>\n",
       "      <td>0.046</td>\n",
       "      <td>0.639</td>\n",
       "      <td>10.578</td>\n",
       "      <td>188.154</td>\n",
       "      <td>2.775</td>\n",
       "      <td>0.903</td>\n",
       "      <td>0.502</td>\n",
       "      <td>0.329</td>\n",
       "      <td>0.287</td>\n",
       "      <td>0.140</td>\n",
       "      <td>-0.246</td>\n",
       "      <td>0.025</td>\n",
       "      <td>-0.112</td>\n",
       "      <td>-0.422</td>\n",
       "      <td>0.018</td>\n",
       "      <td>0.179</td>\n",
       "      <td>0.138</td>\n",
       "      <td>39.864</td>\n",
       "      <td>0.224</td>\n",
       "    </tr>\n",
       "    <tr>\n",
       "      <th>3</th>\n",
       "      <td>0.135</td>\n",
       "      <td>0.603</td>\n",
       "      <td>10.442</td>\n",
       "      <td>65.991</td>\n",
       "      <td>2.841</td>\n",
       "      <td>1.552</td>\n",
       "      <td>0.612</td>\n",
       "      <td>0.351</td>\n",
       "      <td>0.011</td>\n",
       "      <td>0.143</td>\n",
       "      <td>0.047</td>\n",
       "      <td>0.242</td>\n",
       "      <td>0.018</td>\n",
       "      <td>0.168</td>\n",
       "      <td>0.141</td>\n",
       "      <td>0.245</td>\n",
       "      <td>0.146</td>\n",
       "      <td>353.744</td>\n",
       "      <td>0.215</td>\n",
       "    </tr>\n",
       "    <tr>\n",
       "      <th>4</th>\n",
       "      <td>0.066</td>\n",
       "      <td>0.591</td>\n",
       "      <td>9.769</td>\n",
       "      <td>88.890</td>\n",
       "      <td>3.217</td>\n",
       "      <td>0.228</td>\n",
       "      <td>0.814</td>\n",
       "      <td>0.096</td>\n",
       "      <td>0.434</td>\n",
       "      <td>0.285</td>\n",
       "      <td>0.104</td>\n",
       "      <td>0.013</td>\n",
       "      <td>-0.235</td>\n",
       "      <td>-0.207</td>\n",
       "      <td>-0.276</td>\n",
       "      <td>-0.294</td>\n",
       "      <td>-0.190</td>\n",
       "      <td>46.884</td>\n",
       "      <td>-0.118</td>\n",
       "    </tr>\n",
       "    <tr>\n",
       "      <th>...</th>\n",
       "      <td>...</td>\n",
       "      <td>...</td>\n",
       "      <td>...</td>\n",
       "      <td>...</td>\n",
       "      <td>...</td>\n",
       "      <td>...</td>\n",
       "      <td>...</td>\n",
       "      <td>...</td>\n",
       "      <td>...</td>\n",
       "      <td>...</td>\n",
       "      <td>...</td>\n",
       "      <td>...</td>\n",
       "      <td>...</td>\n",
       "      <td>...</td>\n",
       "      <td>...</td>\n",
       "      <td>...</td>\n",
       "      <td>...</td>\n",
       "      <td>...</td>\n",
       "      <td>...</td>\n",
       "    </tr>\n",
       "    <tr>\n",
       "      <th>395</th>\n",
       "      <td>0.174</td>\n",
       "      <td>0.578</td>\n",
       "      <td>5.265</td>\n",
       "      <td>161.144</td>\n",
       "      <td>2.985</td>\n",
       "      <td>0.065</td>\n",
       "      <td>0.718</td>\n",
       "      <td>0.046</td>\n",
       "      <td>0.265</td>\n",
       "      <td>0.104</td>\n",
       "      <td>0.198</td>\n",
       "      <td>0.076</td>\n",
       "      <td>-0.129</td>\n",
       "      <td>-0.057</td>\n",
       "      <td>-0.173</td>\n",
       "      <td>-0.082</td>\n",
       "      <td>0.053</td>\n",
       "      <td>547.713</td>\n",
       "      <td>0.060</td>\n",
       "    </tr>\n",
       "    <tr>\n",
       "      <th>396</th>\n",
       "      <td>0.176</td>\n",
       "      <td>0.498</td>\n",
       "      <td>5.042</td>\n",
       "      <td>179.787</td>\n",
       "      <td>2.790</td>\n",
       "      <td>-0.148</td>\n",
       "      <td>0.342</td>\n",
       "      <td>-0.011</td>\n",
       "      <td>0.029</td>\n",
       "      <td>0.039</td>\n",
       "      <td>0.065</td>\n",
       "      <td>-0.013</td>\n",
       "      <td>-0.129</td>\n",
       "      <td>0.029</td>\n",
       "      <td>-0.038</td>\n",
       "      <td>-0.035</td>\n",
       "      <td>0.038</td>\n",
       "      <td>1121.910</td>\n",
       "      <td>0.032</td>\n",
       "    </tr>\n",
       "    <tr>\n",
       "      <th>397</th>\n",
       "      <td>0.187</td>\n",
       "      <td>0.557</td>\n",
       "      <td>4.724</td>\n",
       "      <td>134.032</td>\n",
       "      <td>1.672</td>\n",
       "      <td>0.566</td>\n",
       "      <td>0.880</td>\n",
       "      <td>-0.113</td>\n",
       "      <td>0.244</td>\n",
       "      <td>0.214</td>\n",
       "      <td>0.278</td>\n",
       "      <td>0.170</td>\n",
       "      <td>-0.049</td>\n",
       "      <td>-0.056</td>\n",
       "      <td>-0.111</td>\n",
       "      <td>-0.003</td>\n",
       "      <td>0.011</td>\n",
       "      <td>889.926</td>\n",
       "      <td>-0.010</td>\n",
       "    </tr>\n",
       "    <tr>\n",
       "      <th>398</th>\n",
       "      <td>0.140</td>\n",
       "      <td>0.573</td>\n",
       "      <td>4.470</td>\n",
       "      <td>113.600</td>\n",
       "      <td>1.997</td>\n",
       "      <td>-0.210</td>\n",
       "      <td>0.694</td>\n",
       "      <td>0.089</td>\n",
       "      <td>0.206</td>\n",
       "      <td>0.062</td>\n",
       "      <td>0.173</td>\n",
       "      <td>0.243</td>\n",
       "      <td>-0.036</td>\n",
       "      <td>-0.149</td>\n",
       "      <td>-0.049</td>\n",
       "      <td>-0.078</td>\n",
       "      <td>0.035</td>\n",
       "      <td>408.726</td>\n",
       "      <td>0.174</td>\n",
       "    </tr>\n",
       "    <tr>\n",
       "      <th>399</th>\n",
       "      <td>0.086</td>\n",
       "      <td>0.475</td>\n",
       "      <td>5.343</td>\n",
       "      <td>151.748</td>\n",
       "      <td>2.240</td>\n",
       "      <td>-0.014</td>\n",
       "      <td>0.834</td>\n",
       "      <td>-0.021</td>\n",
       "      <td>0.345</td>\n",
       "      <td>0.266</td>\n",
       "      <td>0.310</td>\n",
       "      <td>0.155</td>\n",
       "      <td>-0.003</td>\n",
       "      <td>0.016</td>\n",
       "      <td>-0.041</td>\n",
       "      <td>-0.055</td>\n",
       "      <td>0.075</td>\n",
       "      <td>258.400</td>\n",
       "      <td>0.000</td>\n",
       "    </tr>\n",
       "  </tbody>\n",
       "</table>\n",
       "<p>400 rows × 19 columns</p>\n",
       "</div>"
      ],
      "text/plain": [
       "     _RMSenergy_Mean  _Lowenergy_Mean  _Fluctuation_Mean  _Tempo_Mean  \\\n",
       "0              0.052            0.591              9.136      130.043   \n",
       "1              0.125            0.439              6.680      142.240   \n",
       "2              0.046            0.639             10.578      188.154   \n",
       "3              0.135            0.603             10.442       65.991   \n",
       "4              0.066            0.591              9.769       88.890   \n",
       "..               ...              ...                ...          ...   \n",
       "395            0.174            0.578              5.265      161.144   \n",
       "396            0.176            0.498              5.042      179.787   \n",
       "397            0.187            0.557              4.724      134.032   \n",
       "398            0.140            0.573              4.470      113.600   \n",
       "399            0.086            0.475              5.343      151.748   \n",
       "\n",
       "     _MFCC_Mean_1  _MFCC_Mean_2  _MFCC_Mean_3  _MFCC_Mean_4  _MFCC_Mean_5  \\\n",
       "0           3.997         0.363         0.887         0.078         0.221   \n",
       "1           4.058         0.516         0.785         0.397         0.556   \n",
       "2           2.775         0.903         0.502         0.329         0.287   \n",
       "3           2.841         1.552         0.612         0.351         0.011   \n",
       "4           3.217         0.228         0.814         0.096         0.434   \n",
       "..            ...           ...           ...           ...           ...   \n",
       "395         2.985         0.065         0.718         0.046         0.265   \n",
       "396         2.790        -0.148         0.342        -0.011         0.029   \n",
       "397         1.672         0.566         0.880        -0.113         0.244   \n",
       "398         1.997        -0.210         0.694         0.089         0.206   \n",
       "399         2.240        -0.014         0.834        -0.021         0.345   \n",
       "\n",
       "     _MFCC_Mean_6  _MFCC_Mean_7  _MFCC_Mean_8  _MFCC_Mean_9  _MFCC_Mean_10  \\\n",
       "0           0.118        -0.151        -0.131         0.129          0.154   \n",
       "1           0.799        -0.403        -0.264        -0.057          0.288   \n",
       "2           0.140        -0.246         0.025        -0.112         -0.422   \n",
       "3           0.143         0.047         0.242         0.018          0.168   \n",
       "4           0.285         0.104         0.013        -0.235         -0.207   \n",
       "..            ...           ...           ...           ...            ...   \n",
       "395         0.104         0.198         0.076        -0.129         -0.057   \n",
       "396         0.039         0.065        -0.013        -0.129          0.029   \n",
       "397         0.214         0.278         0.170        -0.049         -0.056   \n",
       "398         0.062         0.173         0.243        -0.036         -0.149   \n",
       "399         0.266         0.310         0.155        -0.003          0.016   \n",
       "\n",
       "     _MFCC_Mean_11  _MFCC_Mean_12  _MFCC_Mean_13  _Roughness_Mean  \\\n",
       "0            0.274          0.232          0.246           51.542   \n",
       "1            0.309          0.049          0.027          336.839   \n",
       "2            0.018          0.179          0.138           39.864   \n",
       "3            0.141          0.245          0.146          353.744   \n",
       "4           -0.276         -0.294         -0.190           46.884   \n",
       "..             ...            ...            ...              ...   \n",
       "395         -0.173         -0.082          0.053          547.713   \n",
       "396         -0.038         -0.035          0.038         1121.910   \n",
       "397         -0.111         -0.003          0.011          889.926   \n",
       "398         -0.049         -0.078          0.035          408.726   \n",
       "399         -0.041         -0.055          0.075          258.400   \n",
       "\n",
       "     _Roughness_Slope  \n",
       "0               0.325  \n",
       "1               0.366  \n",
       "2               0.224  \n",
       "3               0.215  \n",
       "4              -0.118  \n",
       "..                ...  \n",
       "395             0.060  \n",
       "396             0.032  \n",
       "397            -0.010  \n",
       "398             0.174  \n",
       "399             0.000  \n",
       "\n",
       "[400 rows x 19 columns]"
      ]
     },
     "execution_count": 57,
     "metadata": {},
     "output_type": "execute_result"
    }
   ],
   "source": [
    "x"
   ]
  },
  {
   "cell_type": "code",
   "execution_count": 58,
   "metadata": {},
   "outputs": [],
   "source": [
    "from sklearn.model_selection import train_test_split"
   ]
  },
  {
   "cell_type": "markdown",
   "metadata": {},
   "source": [
    "// x=independent\n",
    " y=dependent"
   ]
  },
  {
   "cell_type": "code",
   "execution_count": 59,
   "metadata": {},
   "outputs": [],
   "source": [
    "x_train, x_test, y_train, y_test = train_test_split(x,y,test_size=0.2)"
   ]
  },
  {
   "cell_type": "code",
   "execution_count": 60,
   "metadata": {},
   "outputs": [
    {
     "data": {
      "text/plain": [
       "320"
      ]
     },
     "execution_count": 60,
     "metadata": {},
     "output_type": "execute_result"
    }
   ],
   "source": [
    "len(y_train)"
   ]
  },
  {
   "cell_type": "code",
   "execution_count": 61,
   "metadata": {},
   "outputs": [
    {
     "data": {
      "text/plain": [
       "80"
      ]
     },
     "execution_count": 61,
     "metadata": {},
     "output_type": "execute_result"
    }
   ],
   "source": [
    "len(y_test)"
   ]
  },
  {
   "cell_type": "code",
   "execution_count": 62,
   "metadata": {},
   "outputs": [],
   "source": [
    "from sklearn.svm import SVC \n",
    "model =SVC()"
   ]
  },
  {
   "cell_type": "code",
   "execution_count": 63,
   "metadata": {},
   "outputs": [],
   "source": [
    "model=model.fit(x_train,y_train)"
   ]
  },
  {
   "cell_type": "code",
   "execution_count": 64,
   "metadata": {},
   "outputs": [
    {
     "data": {
      "text/plain": [
       "0.375"
      ]
     },
     "execution_count": 64,
     "metadata": {},
     "output_type": "execute_result"
    }
   ],
   "source": [
    "model.score(x_test,y_test)"
   ]
  },
  {
   "cell_type": "code",
   "execution_count": 65,
   "metadata": {},
   "outputs": [
    {
     "data": {
      "text/plain": [
       "0.36875"
      ]
     },
     "execution_count": 65,
     "metadata": {},
     "output_type": "execute_result"
    }
   ],
   "source": [
    "model.score(x_train, y_train)"
   ]
  },
  {
   "cell_type": "code",
   "execution_count": 78,
   "metadata": {},
   "outputs": [
    {
     "data": {
      "text/plain": [
       "[<matplotlib.lines.Line2D at 0x1f6317a80d0>,\n",
       " <matplotlib.lines.Line2D at 0x1f6317a8190>,\n",
       " <matplotlib.lines.Line2D at 0x1f6317a8250>,\n",
       " <matplotlib.lines.Line2D at 0x1f6317a8310>,\n",
       " <matplotlib.lines.Line2D at 0x1f6317a83d0>,\n",
       " <matplotlib.lines.Line2D at 0x1f6317a8490>,\n",
       " <matplotlib.lines.Line2D at 0x1f6317a8550>,\n",
       " <matplotlib.lines.Line2D at 0x1f6317a8610>,\n",
       " <matplotlib.lines.Line2D at 0x1f6317a86d0>,\n",
       " <matplotlib.lines.Line2D at 0x1f6317a8790>,\n",
       " <matplotlib.lines.Line2D at 0x1f63177f160>,\n",
       " <matplotlib.lines.Line2D at 0x1f6317a88e0>,\n",
       " <matplotlib.lines.Line2D at 0x1f6317a89a0>,\n",
       " <matplotlib.lines.Line2D at 0x1f6317a8a60>,\n",
       " <matplotlib.lines.Line2D at 0x1f6317a8b20>,\n",
       " <matplotlib.lines.Line2D at 0x1f6317a8be0>,\n",
       " <matplotlib.lines.Line2D at 0x1f6317a8ca0>,\n",
       " <matplotlib.lines.Line2D at 0x1f6317a8d60>,\n",
       " <matplotlib.lines.Line2D at 0x1f6317a8e20>]"
      ]
     },
     "execution_count": 78,
     "metadata": {},
     "output_type": "execute_result"
    },
    {
     "data": {
      "image/png": "[encoded data removed]",
      "text/plain": [
       "<Figure size 432x288 with 1 Axes>"
      ]
     },
     "metadata": {
      "needs_background": "light"
     },
     "output_type": "display_data"
    }
   ],
   "source": [
    "x_test.shape\n",
    "\n",
    "y_pred=model.predict(x_test)\n",
    "y_pred\n",
    "pt.plot(y_pred,x_test)"
   ]
  },
  {
   "cell_type": "markdown",
   "metadata": {},
   "source": [
    "relax=2 happy=1 sad=3 angry=0"
   ]
  },
  {
   "cell_type": "code",
   "execution_count": 40,
   "metadata": {},
   "outputs": [
    {
     "name": "stdout",
     "output_type": "stream",
     "text": [
      " 0.97\n"
     ]
    }
   ],
   "source": [
    "#Finding the accuracy - How Accurate the model is?\n",
    "import numpy as np\n",
    "print(\" %.2f\" % np.mean(((y_pred - y_test)** 2)**0.5))"
   ]
  },
  {
   "cell_type": "code",
   "execution_count": 41,
   "metadata": {},
   "outputs": [
    {
     "name": "stdout",
     "output_type": "stream",
     "text": [
      "Enter _RMSenergy_Mean:0.052\n",
      "Enter _Lowenergy_Mean:0.591\n",
      "Enter _Fluctuation_Mean:9.136\n",
      "Enter _Tempo_Mean:130.043\n",
      "Enter _MFCC_Mean_1:3.997\n",
      "Enter _MFCC_Mean_2:0.363\n",
      "Enter _MFCC_Mean_3:0.887\n",
      "Enter _MFCC_Mean_4:0.078\n",
      "Enter _MFCC_Mean_5:0.221\n",
      "Enter _MFCC_Mean_60.118\n",
      "Enter _MFCC_Mean_7:-0.151\n",
      "Enter _MFCC_Mean_8-0.131\n",
      "Enter _MFCC_Mean_9:0.129\n",
      "Enter _MFCC_Mean_10:0.154\n",
      "Enter _MFCC_Mean_11:0.274\n",
      "Enter _MFCC_Mean_12:0.232\n",
      "Enter _MFCC_Mean_13:0.246\n",
      "Enter _Roughness_Mean:51.542\n",
      "Enter _Roughness_Slope:0.325\n",
      "[3]\n"
     ]
    }
   ],
   "source": [
    "_RMSenergy_Mean=float(input(\"Enter _RMSenergy_Mean:\"))\n",
    "_Lowenergy_Mean=float(input(\"Enter _Lowenergy_Mean:\"))\n",
    "_Fluctuation_Mean=float(input(\"Enter _Fluctuation_Mean:\"))\n",
    "_Tempo_Mean=float(input(\"Enter _Tempo_Mean:\"))\n",
    "_MFCC_Mean_1=float(input(\"Enter _MFCC_Mean_1:\"))\n",
    "_MFCC_Mean_2=float(input(\"Enter _MFCC_Mean_2:\"))\n",
    "_MFCC_Mean_3=float(input(\"Enter _MFCC_Mean_3:\"))\n",
    "_MFCC_Mean_4=float(input(\"Enter _MFCC_Mean_4:\"))\n",
    "_MFCC_Mean_5=float(input(\"Enter _MFCC_Mean_5:\"))\n",
    "_MFCC_Mean_6=float(input(\"Enter _MFCC_Mean_6\"))\n",
    "_MFCC_Mean_7=float(input(\"Enter _MFCC_Mean_7:\"))\n",
    "_MFCC_Mean_8=float(input(\"Enter _MFCC_Mean_8\"))\n",
    "_MFCC_Mean_9=float(input(\"Enter _MFCC_Mean_9:\"))\n",
    "_MFCC_Mean_10=float(input(\"Enter _MFCC_Mean_10:\"))\n",
    "_MFCC_Mean_11=float(input(\"Enter _MFCC_Mean_11:\"))\n",
    "_MFCC_Mean_12=float(input(\"Enter _MFCC_Mean_12:\"))\n",
    "_MFCC_Mean_13=float(input(\"Enter _MFCC_Mean_13:\"))\n",
    "_Roughness_Mean=float(input(\"Enter _Roughness_Mean:\"))\n",
    "_Roughness_Slope=float(input(\"Enter _Roughness_Slope:\"))\n",
    "sal=model.predict([[_RMSenergy_Mean,_Lowenergy_Mean,_Fluctuation_Mean,_Tempo_Mean,_MFCC_Mean_1,_MFCC_Mean_2,_MFCC_Mean_3,_MFCC_Mean_4,_MFCC_Mean_5,_MFCC_Mean_6,_MFCC_Mean_7,_MFCC_Mean_8,_MFCC_Mean_9,_MFCC_Mean_10,_MFCC_Mean_11,_MFCC_Mean_12,_MFCC_Mean_13,_Roughness_Mean,_Roughness_Slope]])\n",
    "print(sal)"
   ]
  },
  {
   "cell_type": "markdown",
   "metadata": {},
   "source": [
    "relax=2 happy=1 sad=3 angry=0"
   ]
  },
  {
   "cell_type": "code",
   "execution_count": null,
   "metadata": {},
   "outputs": [],
   "source": []
  }
 ],
 "metadata": {
  "kernelspec": {
   "display_name": "Python 3",
   "language": "python",
   "name": "python3"
  },
  "language_info": {
   "codemirror_mode": {
    "name": "ipython",
    "version": 3
   },
   "file_extension": ".py",
   "mimetype": "text/x-python",
   "name": "python",
   "nbconvert_exporter": "python",
   "pygments_lexer": "ipython3",
   "version": "3.8.5"
  }
 },
 "nbformat": 4,
 "nbformat_minor": 4
}
